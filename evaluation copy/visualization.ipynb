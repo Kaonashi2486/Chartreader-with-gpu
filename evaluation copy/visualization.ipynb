{
 "cells": [
  {
   "cell_type": "code",
   "execution_count": null,
   "metadata": {
    "vscode": {
     "languageId": "plaintext"
    }
   },
   "outputs": [],
   "source": [
    "import json\n",
    "eval_filename = 'KPGroupingbest.json'\n",
    "with open(eval_filename) as f:\n",
    "    data = json.load(f)"
   ]
  },
  {
   "cell_type": "code",
   "execution_count": null,
   "metadata": {
    "vscode": {
     "languageId": "plaintext"
    }
   },
   "outputs": [],
   "source": [
    "from PIL import Image\n",
    "import matplotlib.pyplot as plt\n",
    "import matplotlib.patches as patches\n",
    "import numpy as np\n"
   ]
  },
  {
   "cell_type": "code",
   "execution_count": null,
   "metadata": {
    "vscode": {
     "languageId": "plaintext"
    }
   },
   "outputs": [],
   "source": [
    "#bar\n",
    "#filename = \"d6b85eb627a6f1369811169e8cf42335_d3d3LmV4Y2VsLWRvd25sb2Fkcy5jb20JOTEuMTIxLjMzLjM2.xls-0-0.png\"\n",
    "#filename = \"c4c0627d16eb05af88880a92faec6aaa_amFyY2hpdmVzLmNvbQkxOTIuMTg1Ljk4LjE5OA==-5-0.png\"\n",
    "# line\n",
    "#filename = \"fa8527e1883a153f7101c6882c7ba16e_d3d3LmhwYy5nby50aAkxMjIuMTU0LjczLjI2-2-0.png\"\n",
    "#filename=\"fa485fd5f0f2d78100af17e513423fb5_d3d3Lm1hcGFtYS5nb2IuZXMJMTA0LjgwLjg4Ljk4-13-0.png\"\n",
    "# pie\n",
    "#filename=\"fa57abac8df7a30bd2b13719ae20a7de_ZWRnZS5yaXQuZWR1CTEyOS4yMS4xOTguMTYz-0-0.png\"\n",
    "#filename=\"fa3332da7828168794bf7e6b84ca9537_c3RhdGxpbmtzLm9lY2Rjb2RlLm9yZwk5Mi4yNDMuMjMuMTM3.XLS-0-1.png\"\n",
    "#filename = \"fb2ebd179d2715f604e18d2aa0ed08f2_d3d3LnN0YXRpc3RpcXVlcy5kZXZlbG9wcGVtZW50LWR1cmFibGUuZ291di5mcgkzNy4yMzUuODkuMTA3"
   ]
  },
  {
   "cell_type": "code",
   "execution_count": null,
   "metadata": {
    "vscode": {
     "languageId": "plaintext"
    }
   },
   "outputs": [],
   "source": [
    "thres = 0.4\n",
    "img_dir = './'\n",
    "im = np.array(Image.open(img_dir+filename), dtype=np.uint8)\n",
    "fig, ax = plt.subplots(1, dpi=300)\n",
    "ax.imshow(im)\n",
    "key_point_color = 'skyblue'  # 关键点颜色，天蓝色\n",
    "center_point_color = 'coral'  # 中心点颜色，珊瑚色\n",
    "group_line_color = 'lightgrey'\n",
    "text_color = 'black'\n",
    "chart_type = None\n",
    "show_text = True\n",
    "if 'Group' in eval_filename:\n",
    "    groups = data[filename][2]\n",
    "    for group in groups:\n",
    "        cen_in_group = group[0:2]\n",
    "        for k in range(1, len(group[:-1])//2):\n",
    "            key_in_group = group[2*k:2*k+2]\n",
    "            ax.plot([cen_in_group[0], key_in_group[0]], [cen_in_group[1], key_in_group[1]], color=group_line_color, linewidth=0.8)\n",
    "\n",
    "\n",
    "if sum(1 for k in data[filename][1]['0'] if k[0] > thres) >= 3:\n",
    "    chart_type = \"vbar_categorical\"\n",
    "    keys = data[filename][0]['0']\n",
    "    cens = data[filename][1]['0']\n",
    "    for bbox in keys:\n",
    "        if bbox[0] > thres:\n",
    "            circle = patches.Circle((bbox[2], bbox[3]), radius=3, color=key_point_color)\n",
    "            ax.add_patch(circle)\n",
    "            if(show_text):\n",
    "                ax.text(bbox[2], bbox[3]-5, f'{bbox[0]:.2f}', ha='center', va='top', fontsize=4, color=text_color)\n",
    "    for bbox in cens:\n",
    "        if bbox[0] > thres:\n",
    "            circle = patches.Circle((bbox[2], bbox[3]), radius=3, color=center_point_color)\n",
    "            ax.add_patch(circle)\n",
    "            if(show_text):\n",
    "                ax.text(bbox[2], bbox[3]-5, f'{bbox[0]:.2f}', ha='center', va='top', fontsize=4, color=text_color)\n",
    "elif sum(1 for k in data[filename][1]['2'] if k[0] > thres) >= 3:\n",
    "    chart_type = \"pie\"\n",
    "    keys = data[filename][0]['2']\n",
    "    cens = data[filename][1]['2']\n",
    "    for bbox in keys:\n",
    "        if bbox[0] > thres:\n",
    "            circle = patches.Circle((bbox[2], bbox[3]), radius=3, color=key_point_color)\n",
    "            ax.add_patch(circle)\n",
    "            if(show_text):\n",
    "                ax.text(bbox[2], bbox[3]-5, f'{bbox[0]:.2f}', ha='center', va='top', fontsize=4, color=text_color)\n",
    "    for bbox in cens:\n",
    "        if bbox[0] > thres:\n",
    "            circle = patches.Circle((bbox[2], bbox[3]), radius=3, color=center_point_color)\n",
    "            ax.add_patch(circle)\n",
    "            if(show_text):\n",
    "                ax.text(bbox[2], bbox[3]-5, f'{bbox[0]:.2f}', ha='center', va='top', fontsize=4, color=text_color)\n",
    "else:\n",
    "    chart_type = \"line\"\n",
    "    keys = data[filename][0]['1']\n",
    "    cens = data[filename][1]['1']\n",
    "    for bbox in keys:\n",
    "        if bbox[0] > thres:\n",
    "            circle = patches.Circle((bbox[2], bbox[3]), radius=3, color=key_point_color)\n",
    "            ax.add_patch(circle)\n",
    "            if(show_text):\n",
    "                ax.text(bbox[2], bbox[3]-5, f'{bbox[0]:.2f}', ha='center', va='top', fontsize=4, color=text_color)\n",
    "    for bbox in cens:\n",
    "        if bbox[0] > thres:\n",
    "            circle = patches.Circle((bbox[2], bbox[3]), radius=3, color=center_point_color)\n",
    "            ax.add_patch(circle)\n",
    "            if(show_text):\n",
    "                ax.text(bbox[2], bbox[3]-5, f'{bbox[0]:.2f}', ha='center', va='top', fontsize=4, color=text_color)\n",
    "plt.axis('off') # Hide axes"
   ]
  },
  {
   "cell_type": "code",
   "execution_count": null,
   "metadata": {
    "vscode": {
     "languageId": "plaintext"
    }
   },
   "outputs": [],
   "source": [
    "chart_type"
   ]
  },
  {
   "cell_type": "code",
   "execution_count": null,
   "metadata": {
    "vscode": {
     "languageId": "plaintext"
    }
   },
   "outputs": [],
   "source": [
    "plt.show()"
   ]
  }
 ],
 "metadata": {
  "language_info": {
   "name": "python"
  }
 },
 "nbformat": 4,
 "nbformat_minor": 2
}
